{
 "cells": [
  {
   "cell_type": "markdown",
   "id": "ec72d0ae-11ac-4c23-95e3-3f37e35c721b",
   "metadata": {},
   "source": [
    "## QISKIT\n",
    "\n",
    "<h3>Classical Gates</h3>\n",
    "<img src=\"../images/QC_22.jpg\" >\n",
    "<img src=\"../images/QC_23.jpg\" >\n"
   ]
  },
  {
   "cell_type": "markdown",
   "id": "f51e8144-6959-4501-81cb-2571c75ea9e4",
   "metadata": {},
   "source": [
    "<h3>Quantum Gates</h3>\n",
    "<img src=\"../images/QC_24.jpg\" >\n",
    "<img src=\"../images/QC_25.jpg\" >\n",
    "<img src=\"../images/QC_26.jpg\" >\n",
    "<img src=\"../images/QC_27.jpg\" >\n",
    "<img src=\"../images/QC_28.jpg\" >"
   ]
  },
  {
   "cell_type": "code",
   "execution_count": null,
   "id": "31c85de1-0674-4cfa-8e2a-31dcbb0022f5",
   "metadata": {},
   "outputs": [],
   "source": []
  }
 ],
 "metadata": {
  "kernelspec": {
   "display_name": "Python 3 (ipykernel)",
   "language": "python",
   "name": "python3"
  },
  "language_info": {
   "codemirror_mode": {
    "name": "ipython",
    "version": 3
   },
   "file_extension": ".py",
   "mimetype": "text/x-python",
   "name": "python",
   "nbconvert_exporter": "python",
   "pygments_lexer": "ipython3",
   "version": "3.11.7"
  }
 },
 "nbformat": 4,
 "nbformat_minor": 5
}
