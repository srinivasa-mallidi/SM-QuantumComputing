{
 "cells": [
  {
   "cell_type": "markdown",
   "id": "1b7e3c8f-a2dc-4730-b387-43e56fbb5971",
   "metadata": {},
   "source": [
    "## QISKIT\n",
    "\n",
    "<img src=\"../images/QC_29.jpg\" >"
   ]
  },
  {
   "cell_type": "markdown",
   "id": "a53bd916-e854-41ea-9260-b744808c851d",
   "metadata": {},
   "source": [
    "## Useful Links\n",
    "\n",
    "| Resource             | Link                                      |\n",
    "|----------------------|-------------------------------------------|\n",
    "| Qiskit Documentation | https://docs.quantum.ibm.com/guides/hello-world |\n",
    "| Qiskit GitHub        | https://github.com/Qiskit |\n",
    "| Qiskit Compser       | https://quantum.ibm.com/composer |"
   ]
  },
  {
   "cell_type": "markdown",
   "id": "3de9bb55-5209-4596-b3e8-e6eface369e2",
   "metadata": {},
   "source": [
    "### Introduction\n",
    "\n",
    "-   **Objective**: Writing the first quantum code, \"Hello Quantum\".\n",
    "-   **Gates Used**: Hadamard and CNOT gates.\n",
    "-   **Goal**: Create entanglement between two qubits.\n",
    "\n",
    "### Circuit Composer Recap\n",
    "\n",
    "-   **Hadamard Gate**: Applied to qubit Q0.\n",
    "-   **CNOT Gate**: Applied between qubits Q0 and Q1.\n",
    "-   **Measurement**: Added to qubits to observe results.\n",
    "\n",
    "### Measurement in Quantum Circuits\n",
    "\n",
    "-   **Purpose**: Convert quantum state into classical bits by measurement.\n",
    "-   **Outcome**: Collapses quantum state into either 0 or 1.\n",
    "-   **Expectation**: For an entangled state, expect 50% chance of |00⟩ and 50% chance of |11⟩.\n",
    "\n",
    "### Circuit Composer Experiment\n",
    "\n",
    "-   **Initial Setup**:\n",
    "    -   Add Hadamard gate to Q0.\n",
    "    -   Add CNOT gate between Q0 and Q1.\n",
    "    -   Add measurement gates.\n",
    "-   **Observation**:\n",
    "    -   Without measurement, expected quantum behavior observed.\n",
    "    -   With measurement, observed classical probabilities (50% |00⟩, 50% |11⟩).\n",
    "\n",
    "    <img src=\"../images/QC_30.jpg\" >\n",
    "\n",
    "### Running the Circuit\n",
    "\n",
    "-   **Simulation**:\n",
    "    -   Choose a quantum simulator or real quantum computer.  (e.g., IBM Osaka)\n",
    "    -   Run the circuit multiple times (shots) to get statistical results.\n",
    "-   **Shots**: Typically set to 1024 (common in computer science).\n",
    "\n",
    "    <img src=\"../images/QC_32.jpg\" >\n",
    "\n",
    "### Expected Results\n",
    "\n",
    "-   **Entanglement Verification**: Expect approximately 50% |00⟩ and 50% |11⟩.\n",
    "-   **Histogram**: Shows distribution of results after multiple runs.\n",
    "\n",
    "    <img src=\"../images/QC_31.jpg\" >"
   ]
  },
  {
   "cell_type": "markdown",
   "id": "0afe0ea7-165b-4bf9-8ae1-be3c4c4dc076",
   "metadata": {},
   "source": [
    "<h1>Implementing in Qiskit</h1>"
   ]
  },
  {
   "cell_type": "code",
   "execution_count": 3,
   "id": "9dfd8270-c545-404c-9910-8dc636a0c44c",
   "metadata": {},
   "outputs": [],
   "source": [
    "from qiskit import *"
   ]
  },
  {
   "cell_type": "markdown",
   "id": "7e672d05-4a70-43c3-9063-b3ab661c2428",
   "metadata": {},
   "source": [
    "<h3>Create Quantum Circuit:</h3>"
   ]
  },
  {
   "cell_type": "code",
   "execution_count": 4,
   "id": "a46cd04c-1687-44e6-bb43-15f58fa1abbc",
   "metadata": {},
   "outputs": [],
   "source": [
    "circuit = QuantumCircuit(2, 2)  # 2 qubits, 2 classical bits"
   ]
  },
  {
   "cell_type": "markdown",
   "id": "721170d6-1243-4e84-98e0-40b88c4b4fdc",
   "metadata": {},
   "source": [
    "<h3>Add Gates</h3>"
   ]
  },
  {
   "cell_type": "code",
   "execution_count": 5,
   "id": "b37888c4-debd-415b-b6da-9b751a025d8e",
   "metadata": {},
   "outputs": [
    {
     "data": {
      "text/plain": [
       "<qiskit.circuit.instructionset.InstructionSet at 0x1efb2d78100>"
      ]
     },
     "execution_count": 5,
     "metadata": {},
     "output_type": "execute_result"
    }
   ],
   "source": [
    "circuit.h(0)  # Hadamard gate on Q0\n",
    "circuit.cx(0, 1)  # CNOT gate between Q0 and Q1   0 --> control qubit  1 --> target qubit"
   ]
  },
  {
   "cell_type": "code",
   "execution_count": 6,
   "id": "e99cb760-3ff5-4c32-b578-e00c1e15cd59",
   "metadata": {},
   "outputs": [
    {
     "data": {
      "text/html": [
       "<pre style=\"word-wrap: normal;white-space: pre;background: #fff0;line-height: 1.1;font-family: &quot;Courier New&quot;,Courier,monospace\">     ┌───┐     \n",
       "q_0: ┤ H ├──■──\n",
       "     └───┘┌─┴─┐\n",
       "q_1: ─────┤ X ├\n",
       "          └───┘\n",
       "c: 2/══════════\n",
       "               </pre>"
      ],
      "text/plain": [
       "     ┌───┐     \n",
       "q_0: ┤ H ├──■──\n",
       "     └───┘┌─┴─┐\n",
       "q_1: ─────┤ X ├\n",
       "          └───┘\n",
       "c: 2/══════════\n",
       "               "
      ]
     },
     "execution_count": 6,
     "metadata": {},
     "output_type": "execute_result"
    }
   ],
   "source": [
    "circuit.draw()"
   ]
  },
  {
   "cell_type": "markdown",
   "id": "1d1014da-f07b-49ec-8627-6d6cc97437ae",
   "metadata": {},
   "source": [
    "<h3>Add Measurements</h3>"
   ]
  },
  {
   "cell_type": "code",
   "execution_count": 7,
   "id": "a9bbbb90-017f-472c-af2e-ad68349a8ff9",
   "metadata": {},
   "outputs": [
    {
     "data": {
      "text/plain": [
       "<qiskit.circuit.instructionset.InstructionSet at 0x1efb2e6b460>"
      ]
     },
     "execution_count": 7,
     "metadata": {},
     "output_type": "execute_result"
    }
   ],
   "source": [
    "circuit.measure([0, 1], [0, 1])"
   ]
  },
  {
   "cell_type": "code",
   "execution_count": 8,
   "id": "5a675c31-8af7-49dd-8947-8bb053ba5416",
   "metadata": {},
   "outputs": [
    {
     "data": {
      "image/png": "[encoded data removed]",
      "text/plain": [
       "<Figure size 454.517x284.278 with 1 Axes>"
      ]
     },
     "execution_count": 8,
     "metadata": {},
     "output_type": "execute_result"
    }
   ],
   "source": [
    "%matplotlib inline\n",
    "circuit.draw(output='mpl')"
   ]
  },
  {
   "cell_type": "markdown",
   "id": "84c2f7d4-68f3-4837-abdf-df8770050319",
   "metadata": {},
   "source": [
    "<h3>Execute Circuit:</h3>"
   ]
  },
  {
   "cell_type": "code",
   "execution_count": 19,
   "id": "2e4af3c0-ff27-435d-98af-b39d1e8092b3",
   "metadata": {},
   "outputs": [
    {
     "name": "stdout",
     "output_type": "stream",
     "text": [
      "{'11': 548, '00': 476}\n"
     ]
    }
   ],
   "source": [
    "\n",
    "from qiskit_aer import Aer\n",
    "\n",
    "# Transpile for the simulator\n",
    "simulator = Aer.get_backend('qasm_simulator')\n",
    "compiled_circuit = transpile(circuit, backend=simulator)\n",
    "\n",
    "# Run the simulation\n",
    "sim_result = simulator.run(compiled_circuit, shots=1024).result()\n",
    "counts = sim_result.get_counts()\n",
    "\n",
    "# Print the measurement counts\n",
    "print(counts)"
   ]
  },
  {
   "cell_type": "code",
   "execution_count": 20,
   "id": "1feecaab-32c6-405a-ac71-7bc05ad15899",
   "metadata": {},
   "outputs": [],
   "source": [
    "from qiskit.visualization import plot_histogram"
   ]
  },
  {
   "cell_type": "code",
   "execution_count": 21,
   "id": "b85b0aea-4b41-468f-9a95-2db0147f1335",
   "metadata": {},
   "outputs": [
    {
     "data": {
      "image/png": "[encoded data removed]",
      "text/plain": [
       "<Figure size 640x480 with 1 Axes>"
      ]
     },
     "execution_count": 21,
     "metadata": {},
     "output_type": "execute_result"
    }
   ],
   "source": [
    "plot_histogram(counts)"
   ]
  },
  {
   "cell_type": "code",
   "execution_count": null,
   "id": "3ceb7afd-e322-4b82-a96b-d9fb84992941",
   "metadata": {},
   "outputs": [],
   "source": []
  }
 ],
 "metadata": {
  "kernelspec": {
   "display_name": "Python 3 (ipykernel)",
   "language": "python",
   "name": "python3"
  },
  "language_info": {
   "codemirror_mode": {
    "name": "ipython",
    "version": 3
   },
   "file_extension": ".py",
   "mimetype": "text/x-python",
   "name": "python",
   "nbconvert_exporter": "python",
   "pygments_lexer": "ipython3",
   "version": "3.11.7"
  }
 },
 "nbformat": 4,
 "nbformat_minor": 5
}
