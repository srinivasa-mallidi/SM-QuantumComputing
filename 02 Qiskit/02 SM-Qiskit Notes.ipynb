{
 "cells": [
  {
   "cell_type": "markdown",
   "id": "1b7e3c8f-a2dc-4730-b387-43e56fbb5971",
   "metadata": {},
   "source": [
    "## QISKIT\n",
    "\n",
    "<img src=\"../images/QC_29.jpg\" >"
   ]
  },
  {
   "cell_type": "code",
   "execution_count": null,
   "id": "87e2e4e7-6f51-41c2-a8b2-252eb62c8f07",
   "metadata": {},
   "outputs": [],
   "source": []
  }
 ],
 "metadata": {
  "kernelspec": {
   "display_name": "Python 3 (ipykernel)",
   "language": "python",
   "name": "python3"
  },
  "language_info": {
   "codemirror_mode": {
    "name": "ipython",
    "version": 3
   },
   "file_extension": ".py",
   "mimetype": "text/x-python",
   "name": "python",
   "nbconvert_exporter": "python",
   "pygments_lexer": "ipython3",
   "version": "3.11.7"
  }
 },
 "nbformat": 4,
 "nbformat_minor": 5
}
