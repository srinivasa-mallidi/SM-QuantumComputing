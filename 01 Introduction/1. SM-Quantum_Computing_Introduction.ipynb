{
 "cells": [
  {
   "cell_type": "markdown",
   "id": "8308b194-7f11-4fe1-8603-ebe60b411f28",
   "metadata": {},
   "source": [
    "## Quantum Computing"
   ]
  },
  {
   "cell_type": "markdown",
   "id": "7d68bb2b-9e81-4461-b301-e0dcb392ea58",
   "metadata": {},
   "source": [
    "<img src=\"../images/QC_1.jpg\">\n",
    "\n",
    "<img src=\"../images/QC_2.jpg\">"
   ]
  },
  {
   "cell_type": "markdown",
   "id": "b48bd8ba-d9e8-4a5c-bad4-fa4f39a01433",
   "metadata": {},
   "source": [
    "<h3>Classical Computers</h3>\n",
    "\n",
    "<img src=\"../images/QC_3.jpg\">\n"
   ]
  },
  {
   "cell_type": "markdown",
   "id": "608bcff0-0294-4bbd-9007-26d28eec936e",
   "metadata": {},
   "source": [
    "<h3>Probability</h3>\n",
    "\n",
    "<img src=\"../images/QC_4.jpg\">"
   ]
  },
  {
   "cell_type": "markdown",
   "id": "83529cc0-54df-4984-87be-2e2d140594a8",
   "metadata": {},
   "source": [
    "<h3>Statistics</h3>\n",
    "\n",
    "<img src=\"../images/QC_5.jpg\">\n"
   ]
  },
  {
   "cell_type": "markdown",
   "id": "49722fdd-9370-4491-9a78-352288aab433",
   "metadata": {},
   "source": [
    "<h3>Complex Numbers</h3>\n",
    "\n",
    "<img src=\"../images/QC_6.jpg\">\n",
    "\n",
    "<img src=\"../images/QC_7.jpg\">\n"
   ]
  },
  {
   "cell_type": "markdown",
   "id": "6519d2a3-9dc6-4e7d-81f5-971cb3b99003",
   "metadata": {},
   "source": [
    "<h3>Matrix</h3>\n",
    "\n",
    "<img src=\"../images/QC_8.jpg\">\n",
    "\n",
    "<img src=\"../images/QC_9.jpg\">\n",
    "\n",
    "<img src=\"../images/QC_10.jpg\">\n",
    "\n",
    "<img src=\"../images/QC_10.jpg\">"
   ]
  }
 ],
 "metadata": {
  "kernelspec": {
   "display_name": "Python 3 (ipykernel)",
   "language": "python",
   "name": "python3"
  },
  "language_info": {
   "codemirror_mode": {
    "name": "ipython",
    "version": 3
   },
   "file_extension": ".py",
   "mimetype": "text/x-python",
   "name": "python",
   "nbconvert_exporter": "python",
   "pygments_lexer": "ipython3",
   "version": "3.11.7"
  }
 },
 "nbformat": 4,
 "nbformat_minor": 5
}
