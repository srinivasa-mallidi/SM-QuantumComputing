{
 "cells": [
  {
   "cell_type": "markdown",
   "id": "a9d65530-9ac2-463a-b612-36feec1ae5ad",
   "metadata": {},
   "source": [
    "<h3>Superposition and Interference </h3>\n",
    "\n",
    "<img src=\"../images/QC_12.jpg\">"
   ]
  },
  {
   "cell_type": "markdown",
   "id": "a5618dc2-6bdd-4655-a88e-7963f3fcd1f2",
   "metadata": {},
   "source": [
    "<h3>Entanglement</h3>\n",
    "\n",
    "<img src=\"../images/QC_13.jpg\">\n",
    "\n",
    "<img src=\"../images/QC_15.jpg\">"
   ]
  },
  {
   "cell_type": "markdown",
   "id": "25351af7-d08d-49c0-8d34-33d8d388e45a",
   "metadata": {},
   "source": [
    "<h3>Schrodinger's Cat</h3>\n",
    "\n",
    "<img src=\"../images/QC_14.jpg\">"
   ]
  },
  {
   "cell_type": "markdown",
   "id": "64cd46bd-7458-42f4-9548-9b965987a737",
   "metadata": {},
   "source": [
    "## Qubit\n",
    "\n",
    "<img src=\"../images/QC_16_0.jpg\">\n",
    "<img src=\"../images/QC_16.jpg\">\n",
    "<img src=\"../images/QC_17.jpg\">\n"
   ]
  },
  {
   "attachments": {},
   "cell_type": "markdown",
   "id": "3370ef20-cdf6-422c-ade8-f8adff1564e5",
   "metadata": {},
   "source": [
    "## BRA-KET\n",
    "\n",
    "<img src=\"../images/QC_18.jpg\" >\n",
    "<img src=\"../images/QC_19.jpg\" >\n",
    "<img src=\"../images/QC_20.jpg\" >\n",
    "<img src=\"../images/QC_21.jpg\" >"
   ]
  },
  {
   "cell_type": "code",
   "execution_count": null,
   "id": "0594dd0d-e455-4585-9edc-8e2231a6a529",
   "metadata": {},
   "outputs": [],
   "source": []
  }
 ],
 "metadata": {
  "kernelspec": {
   "display_name": "Python 3 (ipykernel)",
   "language": "python",
   "name": "python3"
  },
  "language_info": {
   "codemirror_mode": {
    "name": "ipython",
    "version": 3
   },
   "file_extension": ".py",
   "mimetype": "text/x-python",
   "name": "python",
   "nbconvert_exporter": "python",
   "pygments_lexer": "ipython3",
   "version": "3.11.7"
  }
 },
 "nbformat": 4,
 "nbformat_minor": 5
}
